{
 "cells": [
  {
   "cell_type": "code",
   "execution_count": 6,
   "metadata": {
    "collapsed": true
   },
   "outputs": [],
   "source": [
    "from numpy.linalg import solve\n",
    "import numpy as np"
   ]
  },
  {
   "cell_type": "code",
   "execution_count": 7,
   "metadata": {
    "collapsed": true
   },
   "outputs": [],
   "source": [
    "# This code was inspiried by the blog of Ethan Rosenthal"
   ]
  },
  {
   "cell_type": "code",
   "execution_count": 8,
   "metadata": {
    "collapsed": false
   },
   "outputs": [],
   "source": [
    "# ratings is ndarray: user_items asscociated matrix\n",
    "ratings = None\n",
    "\n",
    "# users_num, items_num = ratings.shape\n",
    "\n",
    "# the number of latent factors in the matrix factorization model\n",
    "factors_num = 10\n",
    "\n",
    "# regularization parameter for item factors\n",
    "item_reg = 0.0\n",
    "\n",
    "# regularization parameter for user factors\n",
    "user_reg = 0.0\n",
    "\n",
    "printing = False"
   ]
  },
  {
   "cell_type": "code",
   "execution_count": 9,
   "metadata": {
    "collapsed": true
   },
   "outputs": [],
   "source": [
    "# This function solves the latent_vectors of the matrix factorization\n",
    "# The objective function here has already been taken derivatives\n",
    "def als(latent_vectors, fixed_vecs, ratings, lbd, output = 'user'):\n",
    "    \"\"\"\n",
    "    latent_vectors: the function returns latent_vectors, a tall and thin vector\n",
    "    fixed_vecs: at each iteration, fix the fixed_vecs, and solve latent_vector\n",
    "    lbd: regularization term lambda in order to prevent overfitting\n",
    "    \"\"\"\n",
    "    if output == 'user': # trying to fix item vectors and solve user vectors\n",
    "        QTQ = fixed_vecs.T.dot(fixed_vecs) # items by items matrix\n",
    "        lambdaI = np.eye(QTQ.shape[0]) * lbd \n",
    "        \n",
    "        for u in range(latent_vectors.shape[0]):\n",
    "            latent_vectors[u, :] = solve((QTQ + lambdaI), ratings[u, :].dot(fixed_vecs)) # AX = b\n",
    "    \n",
    "    elif output == 'item': # trying to fix user vectors and solve item vectors\n",
    "        PTP = fixed_vecs.T.dot(fixed_vecs) # user by user matrix\n",
    "        lambdaI = np.eye(PTP.shape[0]) * lbd\n",
    "        \n",
    "        for i in range(latent_vectors.shape[0]):\n",
    "            latent_vectors[i, :] = solve((PTP + lambdaI), ratings[:, i].T.dot(fixed_vecs))# AX = b\n",
    "    return latent_vectors                                         "
   ]
  },
  {
   "cell_type": "code",
   "execution_count": 10,
   "metadata": {
    "collapsed": true
   },
   "outputs": [],
   "source": [
    "def train(iter_num = 20):\n",
    "    # initialize two random vectors \n",
    "    user_vecs = np.random.random((users_num, factors_num))\n",
    "    item_vecs = np.random.random((items_num, factors_num))\n",
    "    \n",
    "    partial_train(iter_num)"
   ]
  },
  {
   "cell_type": "code",
   "execution_count": 13,
   "metadata": {
    "collapsed": false
   },
   "outputs": [],
   "source": [
    "# normally there're two stopping criteria: the number of iterations, and the discrepancy between the result and actual target\n",
    "# here we use the number of iterations\n",
    "# a common choice of the number of iterations is below 40\n",
    "def partial_train(iter_num):\n",
    "    i = 1\n",
    "    while i <= iter_num:\n",
    "        if i % 10 == 0 and printing:\n",
    "            print('current iteration', i)\n",
    "        user_vecs = als(user_vecs, item_vecs, ratings, user_reg, output='user')\n",
    "        item_vecs = als(item_vecs, user_vecs, ratings, item_reg, output='item')\n",
    "        i += 1"
   ]
  },
  {
   "cell_type": "code",
   "execution_count": 14,
   "metadata": {
    "collapsed": true
   },
   "outputs": [],
   "source": [
    "def predict():\n",
    "    predictions = np.zeros((user_vecs.shape[0], item_vecs.shape[0]))\n",
    "    for u in range(user_vecs.shape[0]):\n",
    "        for i in range(item_vecs.shape[0]):\n",
    "            predictions[u, i] = predict(u, i)\n",
    "    return predictions"
   ]
  }
 ],
 "metadata": {
  "kernelspec": {
   "display_name": "Python 3",
   "language": "python",
   "name": "python3"
  },
  "language_info": {
   "codemirror_mode": {
    "name": "ipython",
    "version": 3
   },
   "file_extension": ".py",
   "mimetype": "text/x-python",
   "name": "python",
   "nbconvert_exporter": "python",
   "pygments_lexer": "ipython3",
   "version": "3.5.1rc1"
  }
 },
 "nbformat": 4,
 "nbformat_minor": 1
}
